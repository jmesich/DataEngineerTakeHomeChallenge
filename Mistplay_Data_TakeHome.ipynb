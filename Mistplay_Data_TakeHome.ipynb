{
 "cells": [
  {
   "cell_type": "markdown",
   "metadata": {},
   "source": [
    "## Mistplay Data Engineer Take Home Assessment\n",
    "\n",
    "The produced code should be able to acheive the following\n",
    "\n",
    "1. remove duplicates over the columns id and created_at (considered simultaneously)\n",
    "2. compute the rank of each user's user_score within each age group and output the rank in a new column called sub_group_rank\n",
    "3. process the column widget_list by\n",
    "    - flattening the list items i.e. each item in the list is put into its own row\n",
    "    - extracting the values in the JSON elements into their own columns called widget_name and widget_amount\n",
    "4. anonymize the column email and output the anonymized version in a new column email_anon. This column email_anon should have the following properties.\n",
    "    - given an anonymized value the original value can be recovered\n",
    "5. create a new table that is an inverted index that gives, for each country in location, which ids are located in that country\n",
    "6. write the processed tables/data into separate parquet file(s). Exactly how the files/tables are organized is not as important as having all the data present.\n",
    "\n",
    "Your code will be evaluated for correctness, scalability and maintainability."
   ]
  },
  {
   "cell_type": "markdown",
   "metadata": {},
   "source": [
    "##### Completed by: James Mesich\n",
    "##### Completed on: February 25th 2021\n",
    "##### Updated: February 28th 2021"
   ]
  },
  {
   "cell_type": "markdown",
   "metadata": {},
   "source": [
    "# This notebook will be split into two parts\n",
    "### 1. Functions that complete the tasks laid out\n",
    "### 2. The script that brings everything together"
   ]
  },
  {
   "cell_type": "markdown",
   "metadata": {},
   "source": [
    "# Part 1: Functions"
   ]
  },
  {
   "cell_type": "markdown",
   "metadata": {},
   "source": [
    "#### Import Libraries"
   ]
  },
  {
   "cell_type": "code",
   "execution_count": 1,
   "metadata": {},
   "outputs": [],
   "source": [
    "import pandas as pd\n",
    "import base64\n",
    "import warnings\n",
    "from pandas.io.json import json_normalize\n",
    "\n",
    "warnings.filterwarnings(\"ignore\")"
   ]
  },
  {
   "cell_type": "markdown",
   "metadata": {},
   "source": [
    "#### Remove duplicates over the columns id and created_at (considered simultaneously)"
   ]
  },
  {
   "cell_type": "code",
   "execution_count": 2,
   "metadata": {},
   "outputs": [],
   "source": [
    "\"\"\"\n",
    "Removes all duplicates based on the columns provided in the Dataframe\n",
    "parameters:\n",
    "    df: Dataframe\n",
    "    columns: List of Strings\n",
    "    \n",
    "returns: Dataframe\n",
    "\"\"\"\n",
    "def remove_duplicates(df, columns):\n",
    "    subset = columns \n",
    "    dups = sum(df.duplicated(subset=subset))\n",
    "    if dups != 0 :\n",
    "        print(str(dups)+\" duplicates found.\")\n",
    "        df = df.drop_duplicates(subset=subset, keep='first')\n",
    "        dups = sum(df.duplicated(subset=subset))\n",
    "        if dups == 0:\n",
    "            print(\"Success, all duplicates removed.\")\n",
    "    else:\n",
    "        print(\"No duplicates found.\")\n",
    "     \n",
    "    return df"
   ]
  },
  {
   "cell_type": "markdown",
   "metadata": {},
   "source": [
    "#### Compute the rank of each user's user_score within each age group and output the rank in a new column called sub_group_rank"
   ]
  },
  {
   "cell_type": "code",
   "execution_count": 3,
   "metadata": {},
   "outputs": [],
   "source": [
    "\"\"\"\n",
    "Adds a new column to the dataframe, ranking a column by the designated group\n",
    "parameters:\n",
    "    df: Dataframe\n",
    "    group: String, column header to group by\n",
    "    ranked_value: String, column header to rank\n",
    "    \n",
    "returns: Dataframe\n",
    "\"\"\"\n",
    "def rank_by_attr(df,group,ranked_value):\n",
    "    \n",
    "    col_name = 'sub_group_rank_' + group\n",
    "    df[col_name] = df.groupby(group)[ranked_value].rank(\"dense\", ascending=False).astype(int)\n",
    "    \n",
    "    return df"
   ]
  },
  {
   "cell_type": "markdown",
   "metadata": {},
   "source": [
    "#### Flatten the list items i.e. each item in the list is put into its own row. Extract the values in the JSON elements into their own columns called widget_name and widget_amount"
   ]
  },
  {
   "cell_type": "code",
   "execution_count": 4,
   "metadata": {},
   "outputs": [],
   "source": [
    "\"\"\"\n",
    "Flattens a column containing a list of dictionaires. \n",
    "parameters:\n",
    "    df: Dataframe\n",
    "    col_name: String, column to be flattened\n",
    "    \n",
    "returns: Dataframe\n",
    "\"\"\"\n",
    "def flatten_col(df, col_name,prefix):\n",
    "    #get our values in a dataframe, json_normalize is much faster than .apply()\n",
    "    #this line would have created a new df with no nan values. Not good for augmenting df\n",
    "    #df2 = pd.concat([pd.DataFrame(pd.json_normalize(x)) for x in df[col_name]], ignore_index=True)\n",
    "    df = df.explode(col_name)\n",
    "    #apply is slow here \n",
    "    df = pd.concat([df.drop([col_name], axis=1), df[col_name].apply(pd.Series).add_prefix(str(prefix)+'_')], axis=1)\n",
    "    df = df.drop([str(prefix)+'_0'], axis=1)\n",
    "    return df"
   ]
  },
  {
   "cell_type": "markdown",
   "metadata": {},
   "source": [
    "#### Anonymize the column email and output the anonymized version in a new column email_anon. This column email_anon should have the following properties"
   ]
  },
  {
   "cell_type": "code",
   "execution_count": 5,
   "metadata": {},
   "outputs": [],
   "source": [
    "\"\"\"\n",
    "Anonymizes the string.\n",
    "parameters:\n",
    "    x: String\n",
    "    returns: encoded String\n",
    "\"\"\"\n",
    "#For a production level program, would have used something like Fernet.\n",
    "def encode(x):\n",
    "    x_bytes = x.encode('ascii')\n",
    "    base64_bytes = base64.b64encode(x_bytes)\n",
    "    base64_x = base64_bytes.decode('ascii')\n",
    "    return base64_x\n",
    "\n",
    "\"\"\"\n",
    "Anonymizes the column\n",
    "parameters:\n",
    "    df: Dataframe\n",
    "    col_name: String, column header to be anonymised \n",
    "    \n",
    "returns: Dataframe\n",
    "\"\"\"\n",
    "def encode_col(df,col_name):\n",
    "    #Better to use apply without lambda!\n",
    "    df['anon_email'] = df['email'].apply(encode)\n",
    "    return df"
   ]
  },
  {
   "cell_type": "markdown",
   "metadata": {},
   "source": [
    "#### Create a new table that is an inverted index that gives, for each country in location, which ids are located in that country"
   ]
  },
  {
   "cell_type": "code",
   "execution_count": 6,
   "metadata": {},
   "outputs": [],
   "source": [
    "\"\"\"\n",
    "Creates a new table based on a key value \n",
    "parameters:\n",
    "    df: Dataframe\n",
    "    key: String, column name in the df\n",
    "    value: String, column name in the df\n",
    "    \n",
    "returns: new Dataframe\n",
    "\"\"\"\n",
    "def invert_index(df, key, value):\n",
    "    #get all the unique keys, ie country \n",
    "    keys=df[key].unique().tolist()\n",
    "    #get the list of ids, make sure its unique\n",
    "    groups = df.groupby(key)\n",
    "    values = groups[value].unique() \n",
    "    #make the table\n",
    "    key_value_table = {key: keys, value: values.values}\n",
    "    return pd.DataFrame(key_value_table)\n",
    "    "
   ]
  },
  {
   "cell_type": "markdown",
   "metadata": {},
   "source": [
    "#### Write the processed tables/data into separate parquet file(s)."
   ]
  },
  {
   "cell_type": "code",
   "execution_count": 7,
   "metadata": {},
   "outputs": [],
   "source": [
    "\"\"\"\n",
    "Saves the dataframe in a gunzipped parquet file\n",
    "parameters:\n",
    "    df: Dataframe\n",
    "    name: String, name of file\n",
    "\n",
    "returns: None\n",
    "\"\"\"\n",
    "def save_file(df,name):\n",
    "    df.to_parquet(name+'.parquet.gzip',compression='gzip')"
   ]
  },
  {
   "cell_type": "markdown",
   "metadata": {},
   "source": [
    "#### Examine data"
   ]
  },
  {
   "cell_type": "code",
   "execution_count": 8,
   "metadata": {},
   "outputs": [],
   "source": [
    "#need to know what I am working with\n",
    "def examine_data(df):\n",
    "    if df.empty:\n",
    "        raise Exception(\"Data file is empty.\")\n",
    "    \n",
    "    if df.isnull().values.any():\n",
    "        print(\"There is missing data\")\n",
    "        print(df.isnull().sum())\n",
    "    \n",
    "    #Get some stats of the data first\n",
    "    print(\"Column Variable types\")\n",
    "    print(df.dtypes)\n",
    "    print(\" \")\n",
    "    print(\"Memory Usage by Column\")\n",
    "    print(df.memory_usage(deep=True))\n",
    "    \n",
    "    print(\"Size of df: \"+str(df.size))\n",
    "    print(\"Shape of df:\" + str(df.shape))"
   ]
  },
  {
   "cell_type": "markdown",
   "metadata": {},
   "source": [
    "# Part 2: Full Script"
   ]
  },
  {
   "cell_type": "code",
   "execution_count": 9,
   "metadata": {},
   "outputs": [
    {
     "name": "stdout",
     "output_type": "stream",
     "text": [
      "Column Variable types\n",
      "id                          object\n",
      "email                       object\n",
      "age_group                    int64\n",
      "user_score                 float64\n",
      "revenue                    float64\n",
      "widget_list                 object\n",
      "location                    object\n",
      "created_at     datetime64[ns, UTC]\n",
      "dtype: object\n",
      " \n",
      "Memory Usage by Column\n",
      "Index            128\n",
      "id             93000\n",
      "email          78904\n",
      "age_group       8000\n",
      "user_score      8000\n",
      "revenue         8000\n",
      "widget_list    72416\n",
      "location       64448\n",
      "created_at      8000\n",
      "dtype: int64\n",
      "Size of df: 8000\n",
      "Shape of df:(1000, 8)\n"
     ]
    }
   ],
   "source": [
    "#read in the data\n",
    "df = pd.read_json('data.json', lines=True)\n",
    "#check for completeness and basic stats\n",
    "examine_data(df)"
   ]
  },
  {
   "cell_type": "markdown",
   "metadata": {},
   "source": [
    "Objects take up a lot more memory than the int/floats/datetimes. \n",
    "Lets examine the plausibility of converting the location to categorical data. \n",
    "Note: email, widget list and id do not make much sense to do this as all entries are unique. Whereas location will usually have a limited number of values."
   ]
  },
  {
   "cell_type": "code",
   "execution_count": 10,
   "metadata": {},
   "outputs": [
    {
     "name": "stdout",
     "output_type": "stream",
     "text": [
      "115\n"
     ]
    }
   ],
   "source": [
    "print(len(df['location'].unique()))"
   ]
  },
  {
   "cell_type": "markdown",
   "metadata": {},
   "source": [
    "With only 115 unique locations, this is a good candidate to switch to categorical data"
   ]
  },
  {
   "cell_type": "code",
   "execution_count": 11,
   "metadata": {},
   "outputs": [
    {
     "name": "stdout",
     "output_type": "stream",
     "text": [
      "Index            128\n",
      "id             93000\n",
      "email          78904\n",
      "age_group       8000\n",
      "user_score      8000\n",
      "revenue         8000\n",
      "widget_list    72416\n",
      "location       13652\n",
      "created_at      8000\n",
      "dtype: int64\n",
      " \n",
      "Reduction in memory\n",
      "4.686211901306241\n"
     ]
    }
   ],
   "source": [
    "df2 = df.copy()\n",
    "df2['location'] = df2['location'].astype(\"category\")\n",
    "print(df2.memory_usage(deep=True))\n",
    "print(\" \")\n",
    "print(\"Reduction in memory\")\n",
    "print(df['location'].memory_usage(deep=True) / df2['location'].memory_usage(deep=True))"
   ]
  },
  {
   "cell_type": "markdown",
   "metadata": {},
   "source": [
    "With nearly 4.7 times less memory for the location category! That's huge!"
   ]
  },
  {
   "cell_type": "code",
   "execution_count": 12,
   "metadata": {},
   "outputs": [
    {
     "data": {
      "text/html": [
       "<div>\n",
       "<style scoped>\n",
       "    .dataframe tbody tr th:only-of-type {\n",
       "        vertical-align: middle;\n",
       "    }\n",
       "\n",
       "    .dataframe tbody tr th {\n",
       "        vertical-align: top;\n",
       "    }\n",
       "\n",
       "    .dataframe thead th {\n",
       "        text-align: right;\n",
       "    }\n",
       "</style>\n",
       "<table border=\"1\" class=\"dataframe\">\n",
       "  <thead>\n",
       "    <tr style=\"text-align: right;\">\n",
       "      <th></th>\n",
       "      <th>id</th>\n",
       "      <th>email</th>\n",
       "      <th>age_group</th>\n",
       "      <th>user_score</th>\n",
       "      <th>revenue</th>\n",
       "      <th>widget_list</th>\n",
       "      <th>location</th>\n",
       "      <th>created_at</th>\n",
       "    </tr>\n",
       "  </thead>\n",
       "  <tbody>\n",
       "    <tr>\n",
       "      <th>0</th>\n",
       "      <td>25abf8a8-9d11-4e55-a003-246e458e9fb3</td>\n",
       "      <td>fguinness0@yolasite.com</td>\n",
       "      <td>2</td>\n",
       "      <td>0.467348</td>\n",
       "      <td>351.08</td>\n",
       "      <td>[{'name': 'Eumetopias jubatus', 'amount': 7052...</td>\n",
       "      <td>Indonesia</td>\n",
       "      <td>2020-01-31 14:50:26+00:00</td>\n",
       "    </tr>\n",
       "    <tr>\n",
       "      <th>1</th>\n",
       "      <td>6bf052c9-1307-4b26-a24d-9c47bf747c87</td>\n",
       "      <td>fdebenham1@si.edu</td>\n",
       "      <td>1</td>\n",
       "      <td>0.929755</td>\n",
       "      <td>801.00</td>\n",
       "      <td>[{'name': 'Bassariscus astutus', 'amount': 441...</td>\n",
       "      <td>Greece</td>\n",
       "      <td>2020-07-16 18:32:48+00:00</td>\n",
       "    </tr>\n",
       "    <tr>\n",
       "      <th>2</th>\n",
       "      <td>c3dc4870-463e-49d3-aba7-383cace03cd5</td>\n",
       "      <td>lleband2@hao123.com</td>\n",
       "      <td>3</td>\n",
       "      <td>0.473031</td>\n",
       "      <td>637.77</td>\n",
       "      <td>[]</td>\n",
       "      <td>China</td>\n",
       "      <td>2019-09-26 05:26:24+00:00</td>\n",
       "    </tr>\n",
       "    <tr>\n",
       "      <th>3</th>\n",
       "      <td>42c18d61-34bb-4b27-a2cf-f43728c690f7</td>\n",
       "      <td>sbartolommeo3@imgur.com</td>\n",
       "      <td>4</td>\n",
       "      <td>0.315440</td>\n",
       "      <td>588.28</td>\n",
       "      <td>[{'name': 'Manouria emys', 'amount': 72401}, {...</td>\n",
       "      <td>Finland</td>\n",
       "      <td>2020-01-17 09:26:34+00:00</td>\n",
       "    </tr>\n",
       "    <tr>\n",
       "      <th>4</th>\n",
       "      <td>e4c7b0ea-466e-4ada-afef-2f1d475be165</td>\n",
       "      <td>ebraben4@xing.com</td>\n",
       "      <td>3</td>\n",
       "      <td>0.009215</td>\n",
       "      <td>191.75</td>\n",
       "      <td>[{'name': 'Mazama americana', 'amount': 35949}...</td>\n",
       "      <td>Armenia</td>\n",
       "      <td>2020-01-29 21:55:14+00:00</td>\n",
       "    </tr>\n",
       "  </tbody>\n",
       "</table>\n",
       "</div>"
      ],
      "text/plain": [
       "                                     id                    email  age_group  \\\n",
       "0  25abf8a8-9d11-4e55-a003-246e458e9fb3  fguinness0@yolasite.com          2   \n",
       "1  6bf052c9-1307-4b26-a24d-9c47bf747c87        fdebenham1@si.edu          1   \n",
       "2  c3dc4870-463e-49d3-aba7-383cace03cd5      lleband2@hao123.com          3   \n",
       "3  42c18d61-34bb-4b27-a2cf-f43728c690f7  sbartolommeo3@imgur.com          4   \n",
       "4  e4c7b0ea-466e-4ada-afef-2f1d475be165        ebraben4@xing.com          3   \n",
       "\n",
       "   user_score  revenue                                        widget_list  \\\n",
       "0    0.467348   351.08  [{'name': 'Eumetopias jubatus', 'amount': 7052...   \n",
       "1    0.929755   801.00  [{'name': 'Bassariscus astutus', 'amount': 441...   \n",
       "2    0.473031   637.77                                                 []   \n",
       "3    0.315440   588.28  [{'name': 'Manouria emys', 'amount': 72401}, {...   \n",
       "4    0.009215   191.75  [{'name': 'Mazama americana', 'amount': 35949}...   \n",
       "\n",
       "    location                created_at  \n",
       "0  Indonesia 2020-01-31 14:50:26+00:00  \n",
       "1     Greece 2020-07-16 18:32:48+00:00  \n",
       "2      China 2019-09-26 05:26:24+00:00  \n",
       "3    Finland 2020-01-17 09:26:34+00:00  \n",
       "4    Armenia 2020-01-29 21:55:14+00:00  "
      ]
     },
     "execution_count": 12,
     "metadata": {},
     "output_type": "execute_result"
    }
   ],
   "source": [
    "#lets use the modified version and take a look at the data\n",
    "df = df2\n",
    "df.head(5)"
   ]
  },
  {
   "cell_type": "code",
   "execution_count": 13,
   "metadata": {},
   "outputs": [
    {
     "name": "stdout",
     "output_type": "stream",
     "text": [
      "6 duplicates found.\n",
      "Success, all duplicates removed.\n"
     ]
    }
   ],
   "source": [
    "#remove duplicates based on these columns\n",
    "df = remove_duplicates(df, ['id','created_at'])"
   ]
  },
  {
   "cell_type": "code",
   "execution_count": 14,
   "metadata": {},
   "outputs": [],
   "source": [
    "#add the sub group rank\n",
    "df = rank_by_attr(df,'age_group','user_score')"
   ]
  },
  {
   "cell_type": "code",
   "execution_count": 15,
   "metadata": {},
   "outputs": [
    {
     "data": {
      "text/html": [
       "<div>\n",
       "<style scoped>\n",
       "    .dataframe tbody tr th:only-of-type {\n",
       "        vertical-align: middle;\n",
       "    }\n",
       "\n",
       "    .dataframe tbody tr th {\n",
       "        vertical-align: top;\n",
       "    }\n",
       "\n",
       "    .dataframe thead th {\n",
       "        text-align: right;\n",
       "    }\n",
       "</style>\n",
       "<table border=\"1\" class=\"dataframe\">\n",
       "  <thead>\n",
       "    <tr style=\"text-align: right;\">\n",
       "      <th></th>\n",
       "      <th>id</th>\n",
       "      <th>email</th>\n",
       "      <th>age_group</th>\n",
       "      <th>user_score</th>\n",
       "      <th>revenue</th>\n",
       "      <th>location</th>\n",
       "      <th>created_at</th>\n",
       "      <th>sub_group_rank_age_group</th>\n",
       "      <th>widget_amount</th>\n",
       "      <th>widget_name</th>\n",
       "    </tr>\n",
       "  </thead>\n",
       "  <tbody>\n",
       "    <tr>\n",
       "      <th>0</th>\n",
       "      <td>25abf8a8-9d11-4e55-a003-246e458e9fb3</td>\n",
       "      <td>fguinness0@yolasite.com</td>\n",
       "      <td>2</td>\n",
       "      <td>0.467348</td>\n",
       "      <td>351.08</td>\n",
       "      <td>Indonesia</td>\n",
       "      <td>2020-01-31 14:50:26+00:00</td>\n",
       "      <td>138</td>\n",
       "      <td>70520.0</td>\n",
       "      <td>Eumetopias jubatus</td>\n",
       "    </tr>\n",
       "    <tr>\n",
       "      <th>0</th>\n",
       "      <td>25abf8a8-9d11-4e55-a003-246e458e9fb3</td>\n",
       "      <td>fguinness0@yolasite.com</td>\n",
       "      <td>2</td>\n",
       "      <td>0.467348</td>\n",
       "      <td>351.08</td>\n",
       "      <td>Indonesia</td>\n",
       "      <td>2020-01-31 14:50:26+00:00</td>\n",
       "      <td>138</td>\n",
       "      <td>35573.0</td>\n",
       "      <td>Ramphastos tucanus</td>\n",
       "    </tr>\n",
       "    <tr>\n",
       "      <th>1</th>\n",
       "      <td>6bf052c9-1307-4b26-a24d-9c47bf747c87</td>\n",
       "      <td>fdebenham1@si.edu</td>\n",
       "      <td>1</td>\n",
       "      <td>0.929755</td>\n",
       "      <td>801.00</td>\n",
       "      <td>Greece</td>\n",
       "      <td>2020-07-16 18:32:48+00:00</td>\n",
       "      <td>14</td>\n",
       "      <td>44123.0</td>\n",
       "      <td>Bassariscus astutus</td>\n",
       "    </tr>\n",
       "    <tr>\n",
       "      <th>1</th>\n",
       "      <td>6bf052c9-1307-4b26-a24d-9c47bf747c87</td>\n",
       "      <td>fdebenham1@si.edu</td>\n",
       "      <td>1</td>\n",
       "      <td>0.929755</td>\n",
       "      <td>801.00</td>\n",
       "      <td>Greece</td>\n",
       "      <td>2020-07-16 18:32:48+00:00</td>\n",
       "      <td>14</td>\n",
       "      <td>52666.0</td>\n",
       "      <td>Lutra canadensis</td>\n",
       "    </tr>\n",
       "    <tr>\n",
       "      <th>1</th>\n",
       "      <td>6bf052c9-1307-4b26-a24d-9c47bf747c87</td>\n",
       "      <td>fdebenham1@si.edu</td>\n",
       "      <td>1</td>\n",
       "      <td>0.929755</td>\n",
       "      <td>801.00</td>\n",
       "      <td>Greece</td>\n",
       "      <td>2020-07-16 18:32:48+00:00</td>\n",
       "      <td>14</td>\n",
       "      <td>6977.0</td>\n",
       "      <td>Oryx gazella</td>\n",
       "    </tr>\n",
       "    <tr>\n",
       "      <th>2</th>\n",
       "      <td>c3dc4870-463e-49d3-aba7-383cace03cd5</td>\n",
       "      <td>lleband2@hao123.com</td>\n",
       "      <td>3</td>\n",
       "      <td>0.473031</td>\n",
       "      <td>637.77</td>\n",
       "      <td>China</td>\n",
       "      <td>2019-09-26 05:26:24+00:00</td>\n",
       "      <td>130</td>\n",
       "      <td>NaN</td>\n",
       "      <td>NaN</td>\n",
       "    </tr>\n",
       "    <tr>\n",
       "      <th>3</th>\n",
       "      <td>42c18d61-34bb-4b27-a2cf-f43728c690f7</td>\n",
       "      <td>sbartolommeo3@imgur.com</td>\n",
       "      <td>4</td>\n",
       "      <td>0.315440</td>\n",
       "      <td>588.28</td>\n",
       "      <td>Finland</td>\n",
       "      <td>2020-01-17 09:26:34+00:00</td>\n",
       "      <td>167</td>\n",
       "      <td>72401.0</td>\n",
       "      <td>Manouria emys</td>\n",
       "    </tr>\n",
       "    <tr>\n",
       "      <th>3</th>\n",
       "      <td>42c18d61-34bb-4b27-a2cf-f43728c690f7</td>\n",
       "      <td>sbartolommeo3@imgur.com</td>\n",
       "      <td>4</td>\n",
       "      <td>0.315440</td>\n",
       "      <td>588.28</td>\n",
       "      <td>Finland</td>\n",
       "      <td>2020-01-17 09:26:34+00:00</td>\n",
       "      <td>167</td>\n",
       "      <td>28076.0</td>\n",
       "      <td>Sagittarius serpentarius</td>\n",
       "    </tr>\n",
       "    <tr>\n",
       "      <th>3</th>\n",
       "      <td>42c18d61-34bb-4b27-a2cf-f43728c690f7</td>\n",
       "      <td>sbartolommeo3@imgur.com</td>\n",
       "      <td>4</td>\n",
       "      <td>0.315440</td>\n",
       "      <td>588.28</td>\n",
       "      <td>Finland</td>\n",
       "      <td>2020-01-17 09:26:34+00:00</td>\n",
       "      <td>167</td>\n",
       "      <td>83195.0</td>\n",
       "      <td>Mirounga angustirostris</td>\n",
       "    </tr>\n",
       "    <tr>\n",
       "      <th>4</th>\n",
       "      <td>e4c7b0ea-466e-4ada-afef-2f1d475be165</td>\n",
       "      <td>ebraben4@xing.com</td>\n",
       "      <td>3</td>\n",
       "      <td>0.009215</td>\n",
       "      <td>191.75</td>\n",
       "      <td>Armenia</td>\n",
       "      <td>2020-01-29 21:55:14+00:00</td>\n",
       "      <td>242</td>\n",
       "      <td>35949.0</td>\n",
       "      <td>Mazama americana</td>\n",
       "    </tr>\n",
       "  </tbody>\n",
       "</table>\n",
       "</div>"
      ],
      "text/plain": [
       "                                     id                    email  age_group  \\\n",
       "0  25abf8a8-9d11-4e55-a003-246e458e9fb3  fguinness0@yolasite.com          2   \n",
       "0  25abf8a8-9d11-4e55-a003-246e458e9fb3  fguinness0@yolasite.com          2   \n",
       "1  6bf052c9-1307-4b26-a24d-9c47bf747c87        fdebenham1@si.edu          1   \n",
       "1  6bf052c9-1307-4b26-a24d-9c47bf747c87        fdebenham1@si.edu          1   \n",
       "1  6bf052c9-1307-4b26-a24d-9c47bf747c87        fdebenham1@si.edu          1   \n",
       "2  c3dc4870-463e-49d3-aba7-383cace03cd5      lleband2@hao123.com          3   \n",
       "3  42c18d61-34bb-4b27-a2cf-f43728c690f7  sbartolommeo3@imgur.com          4   \n",
       "3  42c18d61-34bb-4b27-a2cf-f43728c690f7  sbartolommeo3@imgur.com          4   \n",
       "3  42c18d61-34bb-4b27-a2cf-f43728c690f7  sbartolommeo3@imgur.com          4   \n",
       "4  e4c7b0ea-466e-4ada-afef-2f1d475be165        ebraben4@xing.com          3   \n",
       "\n",
       "   user_score  revenue   location                created_at  \\\n",
       "0    0.467348   351.08  Indonesia 2020-01-31 14:50:26+00:00   \n",
       "0    0.467348   351.08  Indonesia 2020-01-31 14:50:26+00:00   \n",
       "1    0.929755   801.00     Greece 2020-07-16 18:32:48+00:00   \n",
       "1    0.929755   801.00     Greece 2020-07-16 18:32:48+00:00   \n",
       "1    0.929755   801.00     Greece 2020-07-16 18:32:48+00:00   \n",
       "2    0.473031   637.77      China 2019-09-26 05:26:24+00:00   \n",
       "3    0.315440   588.28    Finland 2020-01-17 09:26:34+00:00   \n",
       "3    0.315440   588.28    Finland 2020-01-17 09:26:34+00:00   \n",
       "3    0.315440   588.28    Finland 2020-01-17 09:26:34+00:00   \n",
       "4    0.009215   191.75    Armenia 2020-01-29 21:55:14+00:00   \n",
       "\n",
       "   sub_group_rank_age_group  widget_amount               widget_name  \n",
       "0                       138        70520.0        Eumetopias jubatus  \n",
       "0                       138        35573.0        Ramphastos tucanus  \n",
       "1                        14        44123.0       Bassariscus astutus  \n",
       "1                        14        52666.0          Lutra canadensis  \n",
       "1                        14         6977.0              Oryx gazella  \n",
       "2                       130            NaN                       NaN  \n",
       "3                       167        72401.0             Manouria emys  \n",
       "3                       167        28076.0  Sagittarius serpentarius  \n",
       "3                       167        83195.0   Mirounga angustirostris  \n",
       "4                       242        35949.0          Mazama americana  "
      ]
     },
     "execution_count": 15,
     "metadata": {},
     "output_type": "execute_result"
    }
   ],
   "source": [
    "#lets flatten the widget list\n",
    "df = flatten_col(df, 'widget_list','widget')\n",
    "df.head(10)"
   ]
  },
  {
   "cell_type": "code",
   "execution_count": 16,
   "metadata": {},
   "outputs": [],
   "source": [
    "#Encode the email column\n",
    "df = encode_col(df,'email')"
   ]
  },
  {
   "cell_type": "code",
   "execution_count": 17,
   "metadata": {},
   "outputs": [
    {
     "name": "stdout",
     "output_type": "stream",
     "text": [
      "Success!\n"
     ]
    }
   ],
   "source": [
    "#Test to make sure the encoding worked.\n",
    "email = df['email'].iloc[0]\n",
    "base64_message = df['anon_email'].iloc[0]\n",
    "base64_bytes = base64_message.encode('ascii')\n",
    "message_bytes = base64.b64decode(base64_bytes)\n",
    "message = message_bytes.decode('ascii')\n",
    "if message == email:\n",
    "    print(\"Success!\")"
   ]
  },
  {
   "cell_type": "code",
   "execution_count": 18,
   "metadata": {},
   "outputs": [],
   "source": [
    "#Create the inverted index\n",
    "loc_by_id_table = invert_index(df, 'location', 'id')"
   ]
  },
  {
   "cell_type": "code",
   "execution_count": 19,
   "metadata": {},
   "outputs": [],
   "source": [
    "#save the two separate tables\n",
    "save_file(df,\"user_data\")\n",
    "save_file(loc_by_id_table,\"location_data\")"
   ]
  },
  {
   "cell_type": "code",
   "execution_count": null,
   "metadata": {},
   "outputs": [],
   "source": []
  },
  {
   "cell_type": "code",
   "execution_count": null,
   "metadata": {},
   "outputs": [],
   "source": []
  }
 ],
 "metadata": {
  "kernelspec": {
   "display_name": "Python 3",
   "language": "python",
   "name": "python3"
  },
  "language_info": {
   "codemirror_mode": {
    "name": "ipython",
    "version": 3
   },
   "file_extension": ".py",
   "mimetype": "text/x-python",
   "name": "python",
   "nbconvert_exporter": "python",
   "pygments_lexer": "ipython3",
   "version": "3.8.5"
  }
 },
 "nbformat": 4,
 "nbformat_minor": 4
}
